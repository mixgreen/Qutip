{
 "cells": [
  {
   "cell_type": "markdown",
   "id": "8906c882-efbf-451f-b877-21d3ecb827e2",
   "metadata": {},
   "source": [
    "# GRAPE范例"
   ]
  },
  {
   "cell_type": "markdown",
   "id": "2a66b3a7-9c39-4e48-a293-c055d51a4500",
   "metadata": {},
   "source": [
    "L-BFGS-B 算法，（把二阶项 用 一阶项的修正 来近似），被用来寻找能最大化保真度函数的脉冲参数。\\\\\n",
    "本例目标：考虑在Z方向静磁场中的单个比特，在X反向的控制场下，实现目标演化（Hadmard门），不考虑全局相位。\n",
    "可变参数：演化的时隙数（脉冲的片数），演化的总时长，初始脉冲。\n"
   ]
  },
  {
   "cell_type": "code",
   "execution_count": 4,
   "id": "e4aeb5e6-0a4e-472f-9609-e2145fb6d660",
   "metadata": {},
   "outputs": [],
   "source": [
    "%matplotlib inline\n",
    "import numpy as np\n",
    "import matplotlib.pyplot as plt\n",
    "import datetime"
   ]
  },
  {
   "cell_type": "code",
   "execution_count": 5,
   "id": "ab537b28-980b-4837-b943-1ff70637bbbb",
   "metadata": {},
   "outputs": [],
   "source": [
    "from qutip import Qobj, identity, sigmax, sigmaz\n",
    "from qutip.qip import hadamard_transform\n",
    "import qutip.logging_utils as logging\n",
    "logger = logging.get_logger()\n",
    "#Set this to None or logging.WARN for 'quiet' execution\n",
    "log_level = logging.INFO\n",
    "#QuTiP control modules\n",
    "import qutip.control.pulseoptim as cpo\n",
    "\n",
    "example_name = 'Hadamard'"
   ]
  },
  {
   "cell_type": "markdown",
   "id": "3d38c9bc-68f4-4631-9c96-021daa37be70",
   "metadata": {},
   "source": [
    "## 描述物理系统"
   ]
  },
  {
   "cell_type": "markdown",
   "id": "0cb53967-b9c3-4295-8427-d2f3cfa1c790",
   "metadata": {},
   "source": [
    "系统的动力学受组合哈密尔顿的支配。H(t) = H_d + sum(u1(t)Hc1 + u2(t)Hc2 + ....) 也就是说，随时间变化的哈密尔顿有一个常数部分（这里称为漂移）和随时间变化的部分，它们是由一些被称为控制振幅的函数u_j(t)缩放的控制哈密尔顿。在这种情况下，漂移只是围绕z的旋转，而（随时间变化的）控制是围绕x的旋转。理论上，这个系统是完全可控的（不考虑全局相位），因此可以选择任何单元目标；我们选择了哈达玛德门。"
   ]
  },
  {
   "cell_type": "code",
   "execution_count": null,
   "id": "25b47009-e4a4-4c05-9cd2-a4b1647780ef",
   "metadata": {},
   "outputs": [],
   "source": []
  }
 ],
 "metadata": {
  "kernelspec": {
   "display_name": "Python 3",
   "language": "python",
   "name": "python3"
  },
  "language_info": {
   "codemirror_mode": {
    "name": "ipython",
    "version": 3
   },
   "file_extension": ".py",
   "mimetype": "text/x-python",
   "name": "python",
   "nbconvert_exporter": "python",
   "pygments_lexer": "ipython3",
   "version": "3.9.5"
  }
 },
 "nbformat": 4,
 "nbformat_minor": 5
}
